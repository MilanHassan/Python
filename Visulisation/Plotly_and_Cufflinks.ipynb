{
  "cells": [
    {
      "cell_type": "markdown",
      "metadata": {
        "id": "view-in-github",
        "colab_type": "text"
      },
      "source": [
        "<a href=\"https://colab.research.google.com/github/MilanHassan/Python/blob/main/Plotly_and_Cufflinks.ipynb\" target=\"_parent\"><img src=\"https://colab.research.google.com/assets/colab-badge.svg\" alt=\"Open In Colab\"/></a>"
      ]
    },
    {
      "cell_type": "code",
      "execution_count": null,
      "metadata": {
        "collapsed": true,
        "id": "nHgCEomIGyDm"
      },
      "outputs": [],
      "source": [
        "import pandas as pd\n",
        "import numpy as np\n",
        "%matplotlib inline"
      ]
    },
    {
      "cell_type": "code",
      "execution_count": null,
      "metadata": {
        "id": "msYUhsXSGyDn"
      },
      "outputs": [],
      "source": [
        "from plotly import __version__\n",
        "from plotly.offline import download_plotlyjs, init_notebook_mode, plot, iplot\n",
        "\n",
        "print(__version__) # requires version >= 1.9.0"
      ]
    },
    {
      "cell_type": "code",
      "execution_count": null,
      "metadata": {
        "collapsed": true,
        "id": "tdnddodsGyDo"
      },
      "outputs": [],
      "source": [
        "import cufflinks as cf"
      ]
    },
    {
      "cell_type": "code",
      "source": [
        "from IPython.display import HTML\n",
        "import plotly.express as px\n",
        "import plotly.graph_objects as go"
      ],
      "metadata": {
        "id": "YlrNRxvENVji"
      },
      "execution_count": null,
      "outputs": []
    },
    {
      "cell_type": "code",
      "execution_count": null,
      "metadata": {
        "id": "e5n2M9KXGyDo"
      },
      "outputs": [],
      "source": [
        "# For Notebooks\n",
        "init_notebook_mode(connected=True)"
      ]
    },
    {
      "cell_type": "code",
      "execution_count": null,
      "metadata": {
        "id": "UVELT1U9GyDo"
      },
      "outputs": [],
      "source": [
        "# For offline use\n",
        "cf.go_offline()"
      ]
    },
    {
      "cell_type": "markdown",
      "metadata": {
        "id": "2ASbGtmBGyDp"
      },
      "source": [
        "### Fake Data"
      ]
    },
    {
      "cell_type": "code",
      "execution_count": null,
      "metadata": {
        "id": "N4QjSLwYGyDp"
      },
      "outputs": [],
      "source": [
        "df = pd.DataFrame(np.random.randn(100,4),columns='A B C D'.split())"
      ]
    },
    {
      "cell_type": "code",
      "execution_count": null,
      "metadata": {
        "id": "NIClE3UaGyDq"
      },
      "outputs": [],
      "source": [
        "df.head()"
      ]
    },
    {
      "cell_type": "code",
      "execution_count": null,
      "metadata": {
        "collapsed": true,
        "id": "ZrqjKyRwGyDq"
      },
      "outputs": [],
      "source": [
        "df2 = pd.DataFrame({'Category':['A','B','C'],'Values':[32,43,50]})"
      ]
    },
    {
      "cell_type": "code",
      "execution_count": null,
      "metadata": {
        "id": "FGlIQQ7zGyDq"
      },
      "outputs": [],
      "source": [
        "df2.head()"
      ]
    },
    {
      "cell_type": "code",
      "source": [
        "fig = px.line(df)\n",
        "HTML(fig.to_html())"
      ],
      "metadata": {
        "id": "7Ti77U_rSeEy"
      },
      "execution_count": null,
      "outputs": []
    },
    {
      "cell_type": "markdown",
      "metadata": {
        "id": "HHvMuF60GyDr"
      },
      "source": [
        "## Using Cufflinks and iplot()\n",
        "\n",
        "* scatter\n",
        "* bar\n",
        "* box\n",
        "* spread\n",
        "* ratio\n",
        "* heatmap\n",
        "* surface\n",
        "* histogram\n",
        "* bubble"
      ]
    },
    {
      "cell_type": "markdown",
      "metadata": {
        "id": "WzZGixfCGyDr"
      },
      "source": [
        "## Scatter"
      ]
    },
    {
      "cell_type": "code",
      "execution_count": null,
      "metadata": {
        "id": "t1R58yK5GyDr"
      },
      "outputs": [],
      "source": [
        "fig = px.scatter(df, x='A', y='B')\n",
        "HTML(fig.to_html())"
      ]
    },
    {
      "cell_type": "markdown",
      "metadata": {
        "id": "LDT3E7phGyDr"
      },
      "source": [
        "## Bar Plots"
      ]
    },
    {
      "cell_type": "code",
      "source": [
        "fig = px.bar(df2, x='Category', y='Values')\n",
        "HTML(fig.to_html())"
      ],
      "metadata": {
        "id": "erdqKb7ELeBO"
      },
      "execution_count": null,
      "outputs": []
    },
    {
      "cell_type": "code",
      "source": [
        "dfcount = df.sum()\n",
        "fig = px.bar(dfcount)\n",
        "HTML(fig.to_html())"
      ],
      "metadata": {
        "id": "xGr0GfhiTqXM"
      },
      "execution_count": null,
      "outputs": []
    },
    {
      "cell_type": "markdown",
      "metadata": {
        "id": "gd2bJ_L0GyDs"
      },
      "source": [
        "## Boxplots"
      ]
    },
    {
      "cell_type": "code",
      "execution_count": null,
      "metadata": {
        "id": "9W71ClrrGyDs"
      },
      "outputs": [],
      "source": [
        "fig = px.box(df)\n",
        "HTML(fig.to_html())"
      ]
    },
    {
      "cell_type": "markdown",
      "metadata": {
        "id": "4LAzj1bzGyDs"
      },
      "source": [
        "## 3d Surface"
      ]
    },
    {
      "cell_type": "code",
      "execution_count": null,
      "metadata": {
        "id": "tVNUVv3SGyDt"
      },
      "outputs": [],
      "source": [
        "# Read data from a csv\n",
        "z_data = pd.read_csv('https://raw.githubusercontent.com/plotly/datasets/master/api_docs/mt_bruno_elevation.csv')\n",
        "\n",
        "fig = go.Figure(data=[go.Surface(z=z_data.values)])\n",
        "fig.update_traces(contours_z=dict(show=True, usecolormap=True,\n",
        "                                  highlightcolor=\"limegreen\", project_z=True))\n",
        "fig.update_layout(title='Mt Bruno Elevation', autosize=False,\n",
        "                  scene_camera_eye=dict(x=1.87, y=0.88, z=-0.64),\n",
        "                  width=500, height=500,\n",
        "                  margin=dict(l=65, r=50, b=65, t=90))\n",
        "\n"
      ]
    },
    {
      "cell_type": "code",
      "source": [
        "fig.show()\n",
        "HTML(fig.to_html())"
      ],
      "metadata": {
        "id": "TwVvtIslAUaZ"
      },
      "execution_count": null,
      "outputs": []
    },
    {
      "cell_type": "markdown",
      "metadata": {
        "id": "B4_f5sUMGyDt"
      },
      "source": [
        "## Spread"
      ]
    },
    {
      "cell_type": "code",
      "source": [
        "fig = px.line(df[['A','B']])\n",
        "HTML(fig.to_html())"
      ],
      "metadata": {
        "id": "-oMGkUxtA7u1"
      },
      "execution_count": null,
      "outputs": []
    },
    {
      "cell_type": "markdown",
      "metadata": {
        "id": "IFuKwiaOGyDt"
      },
      "source": [
        "## histogram"
      ]
    },
    {
      "cell_type": "code",
      "source": [
        "fig = px.histogram(df, nbins=25)\n",
        "HTML(fig.to_html())"
      ],
      "metadata": {
        "id": "rkJDuv92AriT"
      },
      "execution_count": null,
      "outputs": []
    },
    {
      "cell_type": "code",
      "execution_count": null,
      "metadata": {
        "id": "f7UfqxbgGyDt"
      },
      "outputs": [],
      "source": [
        "fig = px.scatter(df, x=\"A\", y=\"B\",size=abs(df[\"C\"]))\n",
        "HTML(fig.to_html())"
      ]
    },
    {
      "cell_type": "markdown",
      "metadata": {
        "id": "dBZGSg31GyDt"
      },
      "source": [
        "## scatter_matrix()\n",
        "\n",
        "Similar to sns.pairplot()"
      ]
    },
    {
      "cell_type": "code",
      "execution_count": null,
      "metadata": {
        "id": "imLxcDOVGyDt"
      },
      "outputs": [],
      "source": [
        "fig = px.scatter_matrix(df)\n",
        "HTML(fig.to_html())"
      ]
    }
  ],
  "metadata": {
    "kernelspec": {
      "display_name": "Python 3",
      "language": "python",
      "name": "python3"
    },
    "language_info": {
      "codemirror_mode": {
        "name": "ipython",
        "version": 3
      },
      "file_extension": ".py",
      "mimetype": "text/x-python",
      "name": "python",
      "nbconvert_exporter": "python",
      "pygments_lexer": "ipython3",
      "version": "3.5.1"
    },
    "colab": {
      "name": "Plotly and Cufflinks.ipynb",
      "provenance": [],
      "collapsed_sections": [],
      "include_colab_link": true
    }
  },
  "nbformat": 4,
  "nbformat_minor": 0
}
